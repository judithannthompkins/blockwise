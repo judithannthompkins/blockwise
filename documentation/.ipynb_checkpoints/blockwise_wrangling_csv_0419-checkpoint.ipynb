{
 "cells": [
  {
   "cell_type": "markdown",
   "metadata": {},
   "source": [
    "# TITANIC: Wrangling the Passenger Manifest\n",
    "\n",
    "## Exploratory Analysis with ```Pandas```\n",
    "On April 15, 1912, the RMS Titanic sunk after hitting an iceberg, killing 1502 out of 2224 passengers and crew about during her maiden voyage. While luck did play a role in the survival of some passengers, certain groups&mdash;women and childen&mdash;were much more likely to survive.\n",
    "\n",
    "In this tutorial you will gain experience using ```pandas``` to visualize and clean data from the Titanic's passenger manifest. Afterwards it is also recommended that you complete the \"additional_wrangling_challenge\" notebook, which expands on these skills and is included in this course's repository.\n",
    "\n",
    "**Be sure to read the README before you begin!** In addition, you may also find these resources helpful:  \n",
    "https://www.analyticsvidhya.com/blog/2016/01/complete-tutorial-learn-data-science-python-scratch-2/\n",
    "https://chrisalbon.com/python/pandas_dataframe_descriptive_stats.html\n",
    "\n",
    "*This tutorial is based on the Kaggle Competition, \"Predicting Survival Aboard the Titanic\" https://www.kaggle.com/c/titanic*"
   ]
  },
  {
   "cell_type": "code",
   "execution_count": null,
   "metadata": {},
   "outputs": [],
   "source": [
    "import pandas as pd\n",
    "import numpy as np\n",
    "import matplotlib.pyplot as plt\n",
    "import seaborn as sns\n",
    "\n",
    "%matplotlib inline"
   ]
  },
  {
   "cell_type": "markdown",
   "metadata": {},
   "source": [
    "## Load the Data\n",
    "\n",
    "=> Load the ```dc-crimes-search-results_20180418.csv``` file into a ```pandas``` ```DataFrame```.\n",
    "\n",
    "Documentation: http://pandas.pydata.org/pandas-docs/stable/generated/pandas.read_csv.html"
   ]
  },
  {
   "cell_type": "code",
   "execution_count": null,
   "metadata": {},
   "outputs": [],
   "source": [
    "# Read the train.csv fil pandas.read_csv(filepath_or_buffer, sep=', ', delimiter=None, header='infer', names=None, index_col=None, usecols=None, squeeze=False, prefix=None, mangle_dupe_cols=True, dtype=None, engine=None, converters=None, true_values=None, false_values=None, skipinitialspace=False, skiprows=None, nrows=None, na_values=None, keep_default_na=True, na_filter=True, verbose=False, skip_blank_lines=True, parse_dates=False, infer_datetime_format=False, keep_date_col=False, date_parser=None, dayfirst=False, iterator=False, chunksize=None, compression='infer', thousands=None, decimal=b'.', lineterminator=None, quotechar='\"', quoting=0, escapechar=None, comment=None, encoding=None, dialect=None, tupleize_cols=None, error_bad_lines=True, warn_bad_lines=True, skipfooter=0, skip_footer=0, doublequote=True, delim_whitespace=False, as_recarray=None, compact_ints=None, use_unsigned=None, low_memory=True, buffer_lines=None, memory_map=False, float_precision=None)[source]e as a dataframe using pandas: df\n",
    "df = pd.read_csv('c:\\\\Users\\\\Judith\\\\projects\\\\blockwise\\\\data\\\\dc-crimes-search-results_20180418.csv')"
   ]
  },
  {
   "cell_type": "markdown",
   "metadata": {},
   "source": [
    "## Exploring the Data"
   ]
  },
  {
   "cell_type": "markdown",
   "metadata": {},
   "source": [
    "=> Use ```pandas``` to view the \"head\" of the file with the first 10 rows.\n",
    "\n",
    "Documentation: http://pandas.pydata.org/pandas-docs/stable/generated/pandas.DataFrame.head.html"
   ]
  },
  {
   "cell_type": "code",
   "execution_count": null,
   "metadata": {},
   "outputs": [],
   "source": [
    "# Use pandas to view the first 100 rows of the file.\n",
    "df.head(100)"
   ]
  },
  {
   "cell_type": "markdown",
   "metadata": {},
   "source": [
    "*What did you see? When exploring a new data set, these are some of the first questions you should try to answer.*\n",
    " * Are there any missing values?\n",
    " * What kinds of values/numbers/text are there?\n",
    " * Are the values continuous or categorical?\n",
    " * Are some variables more sparse than others?\n",
    " * Are there multiple values in a single column?"
   ]
  },
  {
   "cell_type": "markdown",
   "metadata": {},
   "source": [
    "#### Summary Statistics\n",
    "\n",
    "__=>__ Use ```pandas``` to get summary statistics on the numerical fields in the data.\n",
    "\n",
    "Documentation: http://pandas.pydata.org/pandas-docs/stable/generated/pandas.DataFrame.describe.html"
   ]
  },
  {
   "cell_type": "code",
   "execution_count": 5,
   "metadata": {},
   "outputs": [
    {
     "data": {
      "text/html": [
       "<div>\n",
       "<style scoped>\n",
       "    .dataframe tbody tr th:only-of-type {\n",
       "        vertical-align: middle;\n",
       "    }\n",
       "\n",
       "    .dataframe tbody tr th {\n",
       "        vertical-align: top;\n",
       "    }\n",
       "\n",
       "    .dataframe thead th {\n",
       "        text-align: right;\n",
       "    }\n",
       "</style>\n",
       "<table border=\"1\" class=\"dataframe\">\n",
       "  <thead>\n",
       "    <tr style=\"text-align: right;\">\n",
       "      <th></th>\n",
       "      <th>census_tract</th>\n",
       "      <th>longitude</th>\n",
       "      <th>yblock</th>\n",
       "      <th>district</th>\n",
       "      <th>ward</th>\n",
       "      <th>year</th>\n",
       "      <th>psa</th>\n",
       "      <th>ucrrank</th>\n",
       "      <th>xblock</th>\n",
       "      <th>cnn</th>\n",
       "      <th>latitude</th>\n",
       "    </tr>\n",
       "  </thead>\n",
       "  <tbody>\n",
       "    <tr>\n",
       "      <th>count</th>\n",
       "      <td>69051.000000</td>\n",
       "      <td>69204.000000</td>\n",
       "      <td>69204.000000</td>\n",
       "      <td>69181.000000</td>\n",
       "      <td>69204.000000</td>\n",
       "      <td>69204.000000</td>\n",
       "      <td>69175.000000</td>\n",
       "      <td>69204.000000</td>\n",
       "      <td>69204.000000</td>\n",
       "      <td>6.920400e+04</td>\n",
       "      <td>69204.000000</td>\n",
       "    </tr>\n",
       "    <tr>\n",
       "      <th>mean</th>\n",
       "      <td>6237.865158</td>\n",
       "      <td>-77.007845</td>\n",
       "      <td>137642.604197</td>\n",
       "      <td>3.664445</td>\n",
       "      <td>4.410439</td>\n",
       "      <td>2016.719077</td>\n",
       "      <td>370.995909</td>\n",
       "      <td>6.052829</td>\n",
       "      <td>399320.139603</td>\n",
       "      <td>1.684337e+07</td>\n",
       "      <td>38.906636</td>\n",
       "    </tr>\n",
       "    <tr>\n",
       "      <th>std</th>\n",
       "      <td>3108.028110</td>\n",
       "      <td>0.035911</td>\n",
       "      <td>3356.217001</td>\n",
       "      <td>1.952458</td>\n",
       "      <td>2.343418</td>\n",
       "      <td>0.665763</td>\n",
       "      <td>195.065156</td>\n",
       "      <td>1.300921</td>\n",
       "      <td>3114.574120</td>\n",
       "      <td>7.433765e+05</td>\n",
       "      <td>0.030233</td>\n",
       "    </tr>\n",
       "    <tr>\n",
       "      <th>min</th>\n",
       "      <td>100.000000</td>\n",
       "      <td>-77.113642</td>\n",
       "      <td>127300.000000</td>\n",
       "      <td>1.000000</td>\n",
       "      <td>1.000000</td>\n",
       "      <td>2016.000000</td>\n",
       "      <td>101.000000</td>\n",
       "      <td>1.000000</td>\n",
       "      <td>390147.000000</td>\n",
       "      <td>2.111617e+06</td>\n",
       "      <td>38.813471</td>\n",
       "    </tr>\n",
       "    <tr>\n",
       "      <th>25%</th>\n",
       "      <td>3600.000000</td>\n",
       "      <td>-77.031224</td>\n",
       "      <td>136128.000000</td>\n",
       "      <td>2.000000</td>\n",
       "      <td>2.000000</td>\n",
       "      <td>2016.000000</td>\n",
       "      <td>206.000000</td>\n",
       "      <td>6.000000</td>\n",
       "      <td>397293.000000</td>\n",
       "      <td>1.616618e+07</td>\n",
       "      <td>38.892988</td>\n",
       "    </tr>\n",
       "    <tr>\n",
       "      <th>50%</th>\n",
       "      <td>6900.000000</td>\n",
       "      <td>-77.012954</td>\n",
       "      <td>137617.000000</td>\n",
       "      <td>3.000000</td>\n",
       "      <td>5.000000</td>\n",
       "      <td>2017.000000</td>\n",
       "      <td>308.000000</td>\n",
       "      <td>6.000000</td>\n",
       "      <td>398877.000000</td>\n",
       "      <td>1.704685e+07</td>\n",
       "      <td>38.906411</td>\n",
       "    </tr>\n",
       "    <tr>\n",
       "      <th>75%</th>\n",
       "      <td>8904.000000</td>\n",
       "      <td>-76.985515</td>\n",
       "      <td>139592.000000</td>\n",
       "      <td>5.000000</td>\n",
       "      <td>6.000000</td>\n",
       "      <td>2017.000000</td>\n",
       "      <td>506.000000</td>\n",
       "      <td>7.000000</td>\n",
       "      <td>401257.000000</td>\n",
       "      <td>1.716980e+07</td>\n",
       "      <td>38.924191</td>\n",
       "    </tr>\n",
       "    <tr>\n",
       "      <th>max</th>\n",
       "      <td>11100.000000</td>\n",
       "      <td>-76.910021</td>\n",
       "      <td>147292.000000</td>\n",
       "      <td>7.000000</td>\n",
       "      <td>8.000000</td>\n",
       "      <td>2018.000000</td>\n",
       "      <td>708.000000</td>\n",
       "      <td>9.000000</td>\n",
       "      <td>407806.000000</td>\n",
       "      <td>8.501717e+07</td>\n",
       "      <td>38.993560</td>\n",
       "    </tr>\n",
       "  </tbody>\n",
       "</table>\n",
       "</div>"
      ],
      "text/plain": [
       "       census_tract     longitude         yblock      district          ward  \\\n",
       "count  69051.000000  69204.000000   69204.000000  69181.000000  69204.000000   \n",
       "mean    6237.865158    -77.007845  137642.604197      3.664445      4.410439   \n",
       "std     3108.028110      0.035911    3356.217001      1.952458      2.343418   \n",
       "min      100.000000    -77.113642  127300.000000      1.000000      1.000000   \n",
       "25%     3600.000000    -77.031224  136128.000000      2.000000      2.000000   \n",
       "50%     6900.000000    -77.012954  137617.000000      3.000000      5.000000   \n",
       "75%     8904.000000    -76.985515  139592.000000      5.000000      6.000000   \n",
       "max    11100.000000    -76.910021  147292.000000      7.000000      8.000000   \n",
       "\n",
       "               year           psa       ucrrank         xblock           cnn  \\\n",
       "count  69204.000000  69175.000000  69204.000000   69204.000000  6.920400e+04   \n",
       "mean    2016.719077    370.995909      6.052829  399320.139603  1.684337e+07   \n",
       "std        0.665763    195.065156      1.300921    3114.574120  7.433765e+05   \n",
       "min     2016.000000    101.000000      1.000000  390147.000000  2.111617e+06   \n",
       "25%     2016.000000    206.000000      6.000000  397293.000000  1.616618e+07   \n",
       "50%     2017.000000    308.000000      6.000000  398877.000000  1.704685e+07   \n",
       "75%     2017.000000    506.000000      7.000000  401257.000000  1.716980e+07   \n",
       "max     2018.000000    708.000000      9.000000  407806.000000  8.501717e+07   \n",
       "\n",
       "           latitude  \n",
       "count  69204.000000  \n",
       "mean      38.906636  \n",
       "std        0.030233  \n",
       "min       38.813471  \n",
       "25%       38.892988  \n",
       "50%       38.906411  \n",
       "75%       38.924191  \n",
       "max       38.993560  "
      ]
     },
     "execution_count": 5,
     "metadata": {},
     "output_type": "execute_result"
    }
   ],
   "source": [
    "# Use pandas to get the summary statistics on the data.\n",
    "\n",
    "df.describe()"
   ]
  },
  {
   "cell_type": "markdown",
   "metadata": {},
   "source": [
    "*What can we infer from the summary statistics?*\n",
    " * How many missing values does the ```Age``` column have?\n",
    " * What percentage of the passengers survived?\n",
    " * How many passengers traveled in Class 3?\n",
    " * Are there any outliers in the ```Fare``` column?"
   ]
  },
  {
   "cell_type": "markdown",
   "metadata": {},
   "source": [
    "__=>__ Use ```pandas``` to get the median of the ```ucrrank``` column.\n",
    "\n",
    "Documentation: http://pandas.pydata.org/pandas-docs/stable/generated/pandas.DataFrame.median.html"
   ]
  },
  {
   "cell_type": "code",
   "execution_count": 6,
   "metadata": {},
   "outputs": [
    {
     "data": {
      "text/plain": [
       "6.0"
      ]
     },
     "execution_count": 6,
     "metadata": {},
     "output_type": "execute_result"
    }
   ],
   "source": [
    "# Use pandas to get the median of the Age column. DataFrame.median(axis=None, skipna=None, level=None, numeric_only=None, **kwargs)[source]\n",
    "df['ucrrank'].median()"
   ]
  },
  {
   "cell_type": "markdown",
   "metadata": {},
   "source": [
    "__=>__ Use ```pandas``` to find the number of unique values in the ```Ticket``` column.\n",
    "\n",
    "Documentation: http://pandas.pydata.org/pandas-docs/stable/generated/pandas.Series.nunique.html"
   ]
  },
  {
   "cell_type": "code",
   "execution_count": 7,
   "metadata": {},
   "outputs": [
    {
     "data": {
      "text/plain": [
       "9"
      ]
     },
     "execution_count": 7,
     "metadata": {},
     "output_type": "execute_result"
    }
   ],
   "source": [
    "# Use pandas to find the number of unique values in the Ticket column. Series.nunique(dropna=True)[source]¶\n",
    "df['ucrrank'].nunique()\n",
    "#df.dtypes"
   ]
  },
  {
   "cell_type": "markdown",
   "metadata": {},
   "source": [
    "The ```block``` column has a large number of unique values. As we saw above in our initial exploration of the data, this feature includes a combination of text and numerical data. Therefore, let's use ```value_counts()``` to generate a frequency distribution of the ```block``` values, so we can see whether this data will be useful for our models.\n",
    "\n",
    "__=>__ Use ```pandas``` to count the number of each unique value in the ```block``` column.\n",
    "\n",
    "Documentation: http://pandas.pydata.org/pandas-docs/version/0.20.3/generated/pandas.Series.value_counts.html"
   ]
  },
  {
   "cell_type": "code",
   "execution_count": 7,
   "metadata": {},
   "outputs": [
    {
     "data": {
      "text/plain": [
       "3100 - 3299 block of 14th street nw              565\n",
       "900 - 999 block of rhode island avenue ne        343\n",
       "3200 - 3275 block of m street nw                 297\n",
       "1 - 99 block of h street nw                      283\n",
       "900 - 1199 block of 4th street sw                219\n",
       "900 - 999 block of bladensburg road ne           215\n",
       "5300 - 5399 block of wisconsin avenue nw         213\n",
       "1300 - 1699 block of connecticut avenue nw       206\n",
       "1000 - 1249 block of brentwood road ne           205\n",
       "600 - 699 block of h street ne                   195\n",
       "400 - 457 block of massachusetts avenue nw       191\n",
       "700 - 799 block of 7th street nw                 190\n",
       "500 - 503 block of 12th street se                186\n",
       "934 - 1099 block of eastern avenue ne            182\n",
       "600 - 669 block of pennsylvania avenue se        176\n",
       "400 - 499 block of 8th street se                 176\n",
       "3900 - 3919 block of benning road ne             175\n",
       "3000 - 3099 block of 14th street nw              168\n",
       "2800 - 2999 block of alabama avenue se           160\n",
       "1 - 99 block of massachusetts avenue ne          159\n",
       "5900 - 5999 block of georgia avenue nw           158\n",
       "2400 - 2599 block of elvans road se              156\n",
       "1200 - 1299 block of g street nw                 154\n",
       "1000 - 1099 block of f street nw                 150\n",
       "300  - 399 block of riggs road ne                150\n",
       "1100 - 1199 block of vermont avenue nw           142\n",
       "4000 - 4121 block of minnesota avenue ne         139\n",
       "500 - 799 block of rhode island avenue ne        136\n",
       "1400 - 1499 block of p street nw                 136\n",
       "1300 - 1399 block of 2nd street ne               135\n",
       "                                                ... \n",
       "4600  - 4699 block of kansas avenue nw             1\n",
       "100 - 299 block of o street nw                     1\n",
       "2600 - 2699 block of 31st street ne                1\n",
       "2600 - 2699 block of hamlin street ne              1\n",
       "1400 - 1499 block of 18th place se                 1\n",
       "1100 - 1199 block of e street se                   1\n",
       "4008 - 4099 block of g street se                   1\n",
       "5300 - 5311 block of 38th street nw                1\n",
       "3000 3099  block of 22nd street se                 1\n",
       "5800  - 5899 block of 3rd street ne                1\n",
       "2500 - 2599 block of chain bridge road nw          1\n",
       "5700  - 5799 block of blair road nw                1\n",
       "4500  - 4516 block of new hampshire avenue nw      1\n",
       "4300 - 4325 block of reno road nw                  1\n",
       "600 - 611 block of 17th street ne                  1\n",
       "3100 3149  block of 20th street se                 1\n",
       "4900  - 4913 block of illinois avenue nw           1\n",
       "2900 - 2999 block of 17th street ne                1\n",
       "4800 - 4899 block of quebec street nw              1\n",
       "0 - 0 block of robert clifton weaver way ne        1\n",
       "700 - 799 block of buchanan street ne              1\n",
       "200 299  block of 57th place ne                    1\n",
       "2800  - 2899 block of jenifer street nw            1\n",
       "7800  - 7899 block of morningside drive nw         1\n",
       "1659 - 1699 block of monroe street nw              1\n",
       "281 - 308 block of 4th street ne                   1\n",
       "3900 - 3938 block of burns place se                1\n",
       "7200  - 7399 block of 15th place nw                1\n",
       "1228 - 1299 block of 33rd street nw                1\n",
       "700 - 799 block of decatur place ne                1\n",
       "Name: block, Length: 8620, dtype: int64"
      ]
     },
     "execution_count": 7,
     "metadata": {},
     "output_type": "execute_result"
    }
   ],
   "source": [
    "# Use pandas to count the number of each unique latitude value.\n",
    "df['block'].value_counts()"
   ]
  },
  {
   "cell_type": "markdown",
   "metadata": {},
   "source": [
    "## Visualize the Data\n",
    "Now let's look at two histograms of the ```block``` data. In the first, we'll set ```bins=10``` and in the second ```bin=50```. Which one do you find the most helpful? What are you able to tell about the range of blocks from the histograms?"
   ]
  },
  {
   "cell_type": "code",
   "execution_count": 8,
   "metadata": {},
   "outputs": [
    {
     "data": {
      "image/png": "[encoded data removed]",
      "text/plain": [
       "<matplotlib.figure.Figure at 0x1a2ab824080>"
      ]
     },
     "metadata": {},
     "output_type": "display_data"
    },
    {
     "data": {
      "image/png": "[encoded data removed]",
      "text/plain": [
       "<matplotlib.figure.Figure at 0x1a2ab89d908>"
      ]
     },
     "metadata": {},
     "output_type": "display_data"
    }
   ],
   "source": [
    "fig = plt.figure(figsize=(7,10))\n",
    "ax = fig.add_subplot(211)\n",
    "ax.hist(df['ucrrank'], bins=10, range=(df['ucrrank'].min(),df['ucrrank'].max()))\n",
    "plt.title('UCR Rank Distribution with 10 Bins')\n",
    "plt.xlabel('UCR Rank')\n",
    "plt.ylabel('Count of Crimes')\n",
    "plt.show()\n",
    "\n",
    "fig = plt.figure(figsize=(7,10))\n",
    "ax = fig.add_subplot(212)\n",
    "ax.hist(df['ucrrank'], bins=20, range=(df['ucrrank'].min(),df['ucrrank'].max()))\n",
    "plt.title('UCR Rank Distribution with 20 Bins')\n",
    "plt.xlabel('UCR Rank')\n",
    "plt.ylabel('Count of Crimes')\n",
    "plt.show()"
   ]
  },
  {
   "cell_type": "markdown",
   "metadata": {},
   "source": [
    "## Data Wrangling\n",
    "It's important to wrangle your data before building your models, since ```scikit-learn``` cannot process missing values and only accepts numerical data. Outliers should also be dealt with beforehand, since they will negatively impact the performance of most machine learning models. "
   ]
  },
  {
   "cell_type": "markdown",
   "metadata": {},
   "source": [
    "### Outliers\n",
    "When examining the histograms of the ```Fare``` data, did you notice any potential outliers? Since there is a relationship between the cost of a ticket and the class the passenger was traveling in, let's look at a box plot of this data to investigate further. "
   ]
  },
  {
   "cell_type": "code",
   "execution_count": null,
   "metadata": {},
   "outputs": [],
   "source": [
    "f, ax = plt.subplots(figsize=(9,7))\n",
    "sns.boxplot(x='shift', y='ucrrank', data=df, palette='vlag')\n",
    "sns.swarmplot(x='shift', y='ucrrank', data=df, size=2, color='0.3')\n",
    "plt.title('UCR Rank By Shift', size=14)\n",
    "plt.xlabel('Shift', size=12)\n",
    "plt.ylabel('UCR Rank', size=12)\n",
    "plt.show()"
   ]
  },
  {
   "cell_type": "markdown",
   "metadata": {},
   "source": [
    "We can quickly see that there a few first-class fares that are much higher than the others. Let's sort the data set by the ```Fare``` column so we can see the cost of the most expensive tickets."
   ]
  },
  {
   "cell_type": "code",
   "execution_count": null,
   "metadata": {},
   "outputs": [],
   "source": [
    "df.sort_values(by='ucrrank', ascending=False).head(10)"
   ]
  },
  {
   "cell_type": "markdown",
   "metadata": {},
   "source": [
    "Since the ```$512``` fares appear to be outliers, let's replace them with ```$213```, since it is the second highest value and much closer to the other data points."
   ]
  },
  {
   "cell_type": "code",
   "execution_count": null,
   "metadata": {
    "collapsed": true
   },
   "outputs": [],
   "source": [
    "for idx in df.index:\n",
    "    if df.loc[idx].Fare > 500:\n",
    "        df.set_value(idx, 'Fare', 263.0000)"
   ]
  },
  {
   "cell_type": "markdown",
   "metadata": {},
   "source": [
    "### Dealing with Missing Data\n",
    "When deciding how to handle missing values, it is important to know how prevalent they are in your data. Let's use ```pandas``` to find out how many ```Cabin``` values are missing from our data set.\n",
    "\n",
    "__=>__ Use ```pandas``` to get the sum of all the null values in the ```Cabin``` column.\n",
    "\n",
    "Documentation:    \n",
    "http://pandas.pydata.org/pandas-docs/stable/generated/pandas.isnull.html    \n",
    "http://pandas.pydata.org/pandas-docs/stable/generated/pandas.DataFrame.sum.html"
   ]
  },
  {
   "cell_type": "code",
   "execution_count": null,
   "metadata": {
    "collapsed": true
   },
   "outputs": [],
   "source": [
    "# Sum the number of null Cabin values."
   ]
  },
  {
   "cell_type": "markdown",
   "metadata": {},
   "source": [
    "### Deleting a Feature\n",
    "\n",
    "\n",
    "__=>__ Since most of the ```Cabin``` values are missing, let's use ```pandas``` to drop the column. We will also drop the ```Ticket``` column, since as we saw earlier, it contains of a mix of text and numeric data that doesn't appear to contain any useful information. *HINT: remember to set ```axis=1```.*\n",
    "\n",
    "Documentation:  \n",
    "http://pandas.pydata.org/pandas-docs/stable/generated/pandas.DataFrame.drop.html  \n",
    "https://chrisalbon.com/python/pandas_dropping_column_and_rows.html"
   ]
  },
  {
   "cell_type": "code",
   "execution_count": null,
   "metadata": {
    "collapsed": true
   },
   "outputs": [],
   "source": [
    "# Use pandas to drop the Cabin and Ticket columns."
   ]
  },
  {
   "cell_type": "markdown",
   "metadata": {},
   "source": [
    "### Filling in Missing Data\n",
    "While the ```Age``` column also contains null values, it is missing far fewer than the ```Cabin``` column, so we will fill those in rather than drop the column. The simplest approach, which we'll use here, is to replace the null values with the mean age of the passengers.\n",
    "\n",
    "__=>__ First use ```pandas``` to calculate and save the mean age of the passengers. Then replace the null values in the ```Age``` column with that number.\n",
    "\n",
    "Documentation:  \n",
    "http://pandas.pydata.org/pandas-docs/stable/generated/pandas.DataFrame.mean.html     \n",
    "http://pandas.pydata.org/pandas-docs/stable/generated/pandas.DataFrame.fillna.html"
   ]
  },
  {
   "cell_type": "code",
   "execution_count": null,
   "metadata": {
    "collapsed": true
   },
   "outputs": [],
   "source": [
    "# First, use pandas to find the mean age of the passengers: mean_age\n",
    "mean_age = \n",
    "\n",
    "# ...and then fill in the null Age values with mean_age."
   ]
  },
  {
   "cell_type": "code",
   "execution_count": null,
   "metadata": {
    "collapsed": true
   },
   "outputs": [],
   "source": [
    "# Check that there are no more null values in the Age column."
   ]
  },
  {
   "cell_type": "markdown",
   "metadata": {},
   "source": [
    "### Save Your Work\n",
    "...you will need it in a few weeks!"
   ]
  },
  {
   "cell_type": "code",
   "execution_count": null,
   "metadata": {
    "collapsed": true
   },
   "outputs": [],
   "source": [
    "import pandas.io.sql as pd_sql\n",
    "import sqlite3 as sql\n",
    "\n",
    "# Create a sqlite3 database to store the data.\n",
    "con = sql.connect('titanic.db') "
   ]
  },
  {
   "cell_type": "markdown",
   "metadata": {},
   "source": [
    "__=>__ Use ```pandas``` to write your ```DataFrame``` to the ```sqlite``` database.\n",
    "\n",
    "Documenation: http://pandas.pydata.org/pandas-docs/stable/generated/pandas.DataFrame.to_sql.html"
   ]
  },
  {
   "cell_type": "code",
   "execution_count": null,
   "metadata": {
    "collapsed": true
   },
   "outputs": [],
   "source": [
    "# Use pandas to save your dataframe to a sqlite database name 'training_data'."
   ]
  }
 ],
 "metadata": {
  "kernelspec": {
   "display_name": "Python 3",
   "language": "python",
   "name": "python3"
  },
  "language_info": {
   "codemirror_mode": {
    "name": "ipython",
    "version": 3
   },
   "file_extension": ".py",
   "mimetype": "text/x-python",
   "name": "python",
   "nbconvert_exporter": "python",
   "pygments_lexer": "ipython3",
   "version": "3.6.4"
  }
 },
 "nbformat": 4,
 "nbformat_minor": 1
}
